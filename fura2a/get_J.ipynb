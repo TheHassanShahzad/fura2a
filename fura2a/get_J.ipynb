{
 "cells": [
  {
   "cell_type": "markdown",
   "metadata": {},
   "source": [
    "for the arm\n"
   ]
  },
  {
   "cell_type": "code",
   "execution_count": 2,
   "metadata": {},
   "outputs": [
    {
     "name": "stdout",
     "output_type": "stream",
     "text": [
      "d is 0.038017265814363876\n",
      "Irot_x is 0.000108365966796875\n",
      "Irot_y is 0.000141365966796875\n",
      "Irot_z is 0.000141365966796875\n"
     ]
    }
   ],
   "source": [
    "import math\n",
    "d = math.sqrt((0.037500000000000006)**2 + (0.0062500000000000056)**2)\n",
    "print(\"d is\", d)\n",
    "m = 0.07359375\n",
    "# m = 0.2\n",
    "Ixx = 2e-06\n",
    "Iyy = 3.5e-05\n",
    "Izz = 3.5e-05\n",
    "\n",
    "Irot_x = Ixx + m*(d**2)\n",
    "Irot_y = Iyy + m*(d**2)\n",
    "Irot_z = Izz + m*(d**2)\n",
    "\n",
    "print(\"Irot_x is\", Irot_x)\n",
    "print(\"Irot_y is\", Irot_y)\n",
    "print(\"Irot_z is\", Irot_z)"
   ]
  },
  {
   "cell_type": "markdown",
   "metadata": {},
   "source": [
    "for the pendulum"
   ]
  },
  {
   "cell_type": "code",
   "execution_count": 3,
   "metadata": {},
   "outputs": [
    {
     "name": "stdout",
     "output_type": "stream",
     "text": [
      "d is 0.06768493185340442\n",
      "Irot_x is 0.00064749796875\n",
      "Irot_y is 0.00064749796875\n",
      "Irot_z is 0.00048749796874999996\n"
     ]
    }
   ],
   "source": [
    "import math\n",
    "d = math.sqrt((0.0050000000000000044)**2 + (0.0675)**2)\n",
    "print(\"d is\", d)\n",
    "m = 0.10597499999999999\n",
    "# m = 0.2\n",
    "Ixx = 0.000162\n",
    "Iyy = 0.000162\n",
    "Izz = 2e-06\n",
    "\n",
    "Irot_x = Ixx + m*(d**2)\n",
    "Irot_y = Iyy + m*(d**2)\n",
    "Irot_z = Izz + m*(d**2)\n",
    "\n",
    "print(\"Irot_x is\", Irot_x)\n",
    "print(\"Irot_y is\", Irot_y)\n",
    "print(\"Irot_z is\", Irot_z)"
   ]
  }
 ],
 "metadata": {
  "kernelspec": {
   "display_name": "usr",
   "language": "python",
   "name": "python3"
  },
  "language_info": {
   "codemirror_mode": {
    "name": "ipython",
    "version": 3
   },
   "file_extension": ".py",
   "mimetype": "text/x-python",
   "name": "python",
   "nbconvert_exporter": "python",
   "pygments_lexer": "ipython3",
   "version": "3.10.12"
  }
 },
 "nbformat": 4,
 "nbformat_minor": 2
}

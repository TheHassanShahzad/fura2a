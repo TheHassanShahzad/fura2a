{
 "cells": [
  {
   "cell_type": "code",
   "execution_count": 2,
   "metadata": {},
   "outputs": [
    {
     "name": "stdout",
     "output_type": "stream",
     "text": [
      "0.007967562168493848\n"
     ]
    },
    {
     "data": {
      "text/plain": [
       "0.002830417975428134"
      ]
     },
     "execution_count": 2,
     "metadata": {},
     "output_type": "execute_result"
    }
   ],
   "source": [
    "import math\n",
    "d = math.sqrt((0.007967562168493848)**2 + (3.0890324677637924e-17)**2)\n",
    "print(d)\n",
    "m = 1.786614971490255\n",
    "# m = 0.2\n",
    "Izz = 0.002717\n",
    "\n",
    "Irot = Izz + m*(d**2)\n",
    "Irot\n"
   ]
  },
  {
   "cell_type": "code",
   "execution_count": 6,
   "metadata": {},
   "outputs": [
    {
     "data": {
      "text/plain": [
       "0.0004809817320359795"
      ]
     },
     "execution_count": 6,
     "metadata": {},
     "output_type": "execute_result"
    }
   ],
   "source": [
    "d = math.sqrt((-0.0602)**2 + (-7.34788079488412e-18)**2)\n",
    "m = 0.08939794594871456\n",
    "Izz = 0.000157\n",
    "\n",
    "Irot = Izz + m*(d**2)\n",
    "Irot"
   ]
  },
  {
   "cell_type": "code",
   "execution_count": 3,
   "metadata": {},
   "outputs": [
    {
     "name": "stdout",
     "output_type": "stream",
     "text": [
      "0.026682566071217124\n"
     ]
    },
    {
     "data": {
      "text/plain": [
       "0.0014758254169878584"
      ]
     },
     "execution_count": 3,
     "metadata": {},
     "output_type": "execute_result"
    }
   ],
   "source": [
    "d = math.sqrt((0.026682566071217124)**2 + (-3.832567320079414e-17 )**2)\n",
    "print(d)\n",
    "m = 0.5334931362492104\n",
    "# m = 0.2\n",
    "Izz = 0.001096\n",
    "\n",
    "Irot = Izz + m*(d**2)\n",
    "Irot\n"
   ]
  }
 ],
 "metadata": {
  "kernelspec": {
   "display_name": "usr",
   "language": "python",
   "name": "python3"
  },
  "language_info": {
   "codemirror_mode": {
    "name": "ipython",
    "version": 3
   },
   "file_extension": ".py",
   "mimetype": "text/x-python",
   "name": "python",
   "nbconvert_exporter": "python",
   "pygments_lexer": "ipython3",
   "version": "3.10.12"
  }
 },
 "nbformat": 4,
 "nbformat_minor": 2
}

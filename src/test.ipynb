{
 "cells": [
  {
   "cell_type": "code",
   "execution_count": null,
   "metadata": {},
   "outputs": [
    {
     "name": "stdout",
     "output_type": "stream",
     "text": [
      "Ad (Discrete-time A matrix):\n",
      " [[ 1.00000000e+00  5.00000000e-02  1.09556044e-02  1.82876656e-04]\n",
      " [ 0.00000000e+00  1.00000000e+00  4.36526184e-01  1.09556044e-02]\n",
      " [ 0.00000000e+00  0.00000000e+00  9.76859538e-01  4.96137273e-02]\n",
      " [ 0.00000000e+00  0.00000000e+00 -9.22031987e-01  9.76859538e-01]]\n",
      "Bd (Discrete-time B matrix):\n",
      " [[  3.48471881]\n",
      " [139.38875244]\n",
      " [  0.        ]\n",
      " [  0.        ]]\n"
     ]
    }
   ],
   "source": [
    "import numpy as np\n",
    "from scipy.signal import cont2discrete\n",
    "import math\n",
    "\n",
    "# Parameters\n",
    "m = 0.08939794594871456        # Mass of pendulum (kg)\n",
    "lp = 0.06          # Distance to pendulum center of mass (m)\n",
    "g = 9.80665           # Gravity (m/s^2)\n",
    "J_theta = 0.002830449  # Rotary arm moment of inertia (kg·m^2)\n",
    "J_alpha = 0.000358709  # Pendulum arm moment of inertia (kg·m^2)\n",
    "Ts = 0.05          # Sampling time (s)\n",
    "\n",
    "# Continuous-time state-space matrices\n",
    "A = np.array([\n",
    "    [0, 1, 0, 0],\n",
    "    [0, 0, m * lp**2 * g / J_theta, 0],\n",
    "    [0, 0, 0, 1],\n",
    "    [0, 0, -m * g * lp / J_alpha, 0]\n",
    "])\n",
    "B = np.array([\n",
    "    [0],\n",
    "    [1 / J_theta],\n",
    "    [0],\n",
    "    [0]\n",
    "])\n",
    "\n",
    "# Discretize the system\n",
    "system_discrete = cont2discrete((A, B, np.eye(4), np.zeros((4, 1))), Ts, method='zoh')\n",
    "Ad, Bd, _, _, _ = system_discrete\n",
    "\n",
    "# Print results\n",
    "print(\"Ad (Discrete-time A matrix):\\n\", Ad)\n",
    "print(\"Bd (Discrete-time B matrix):\\n\", Bd)\n"
   ]
  },
  {
   "cell_type": "code",
   "execution_count": null,
   "metadata": {},
   "outputs": [
    {
     "name": "stdout",
     "output_type": "stream",
     "text": [
      "1.9272973673670426\n",
      "Ts must be less than 0.05188612909102552 seconds but greater than time to solve optimization problem\n"
     ]
    }
   ],
   "source": [
    "f_natural = (1 / (2 * math.pi)) * math.sqrt((m * g * lp) / J_alpha)\n",
    "# print(f_natural)\n",
    "print(\"Ts must be less than\", 1/(10*f_natural), \"seconds but greater than time to solve optimization problem\")"
   ]
  },
  {
   "cell_type": "code",
   "execution_count": 16,
   "metadata": {},
   "outputs": [],
   "source": [
    "Np = 20  # Prediction horizon (number of steps to predict into the future)\n",
    "\n",
    "\n",
    "# Define weight matrices\n",
    "Q = np.diag([10, 1, 100, 1])  # Penalize pendulum angle and rotary arm angle more heavily\n",
    "R = np.array([[0.1]])         # Penalize control effort\n",
    "\n",
    "\n",
    "x_min = np.array([-np.pi, -10, -np.pi/6, -10])  # Example: Limits for [theta, theta_dot, alpha, alpha_dot]\n",
    "x_max = np.array([np.pi, 10, np.pi/6, 10])      # Pendulum angles and velocities\n",
    "\n",
    "u_min = np.array([-5])  # Minimum torque (Nm)\n",
    "u_max = np.array([5])   # Maximum torque (Nm)\n",
    "\n",
    "\n",
    "def build_mpc_matrices(Ad, Bd, Np):\n",
    "    n, m = Bd.shape\n",
    "    F = np.zeros((Np * n, n))\n",
    "    G = np.zeros((Np * n, Np * m))\n",
    "\n",
    "    for i in range(Np):\n",
    "        F[i*n:(i+1)*n, :] = np.linalg.matrix_power(Ad, i+1)\n",
    "        for j in range(i+1):\n",
    "            G[i*n:(i+1)*n, j*m:(j+1)*m] = np.linalg.matrix_power(Ad, i-j) @ Bd\n",
    "\n",
    "    return F, G\n",
    "\n",
    "F, G = build_mpc_matrices(Ad, Bd, Np)\n",
    "\n"
   ]
  },
  {
   "cell_type": "code",
   "execution_count": 19,
   "metadata": {},
   "outputs": [],
   "source": [
    "import cvxpy as cp\n",
    "\n",
    "# Define optimization variables\n",
    "U = cp.Variable((Np, 1))  # Control inputs\n",
    "X_ref = np.zeros((Np * 4, 1))  # Reference trajectory (e.g., stabilize at zero)\n",
    "\n",
    "x0 = np.array([0, 0, 0.1, 0]) \n",
    "\n",
    "# Predicted states\n",
    "X_pred = F @ x0[:, np.newaxis] + G @ U\n",
    "\n",
    "# Cost function\n",
    "state_error = X_pred - X_ref\n",
    "cost = cp.quad_form(state_error, np.kron(np.eye(Np), Q)) + cp.quad_form(U, np.kron(np.eye(Np), R))\n",
    "\n",
    "# Constraints\n",
    "constraints = []\n",
    "for k in range(Np):\n",
    "    constraints += [\n",
    "        X_pred[k*4:(k+1)*4] <= x_max,\n",
    "        X_pred[k*4:(k+1)*4] >= x_min,\n",
    "    ]\n",
    "    if k < Np:\n",
    "        constraints += [U[k] <= u_max, U[k] >= u_min]\n",
    "\n",
    "# Solve the optimization problem\n",
    "problem = cp.Problem(cp.Minimize(cost), constraints)\n",
    "problem.solve()\n",
    "\n",
    "# Optimal control inputs\n",
    "u_optimal = U.value\n"
   ]
  },
  {
   "cell_type": "code",
   "execution_count": 20,
   "metadata": {},
   "outputs": [
    {
     "data": {
      "image/png": "[encoded data removed]",
      "text/plain": [
       "<Figure size 640x480 with 1 Axes>"
      ]
     },
     "metadata": {},
     "output_type": "display_data"
    }
   ],
   "source": [
    "import matplotlib.pyplot as plt\n",
    "\n",
    "# Simulation parameters\n",
    "num_steps = 100\n",
    "x_history = [x0]\n",
    "u_history = []\n",
    "\n",
    "# Run simulation\n",
    "for t in range(num_steps):\n",
    "    # Solve MPC\n",
    "    problem.solve()\n",
    "    u_optimal = U.value\n",
    "    \n",
    "    # Apply the first control input\n",
    "    u0 = u_optimal[0]\n",
    "    u_history.append(u0)\n",
    "    \n",
    "    # Update state\n",
    "    x0 = Ad @ x0 + Bd @ u0\n",
    "    x_history.append(x0)\n",
    "\n",
    "# Plot results\n",
    "x_history = np.array(x_history)\n",
    "plt.figure()\n",
    "plt.plot(x_history[:, 2], label=\"Pendulum Angle (alpha)\")\n",
    "plt.plot(x_history[:, 0], label=\"Rotary Arm Angle (theta)\")\n",
    "plt.legend()\n",
    "plt.show()\n"
   ]
  }
 ],
 "metadata": {
  "kernelspec": {
   "display_name": "Python 3",
   "language": "python",
   "name": "python3"
  },
  "language_info": {
   "codemirror_mode": {
    "name": "ipython",
    "version": 3
   },
   "file_extension": ".py",
   "mimetype": "text/x-python",
   "name": "python",
   "nbconvert_exporter": "python",
   "pygments_lexer": "ipython3",
   "version": "3.10.12"
  }
 },
 "nbformat": 4,
 "nbformat_minor": 2
}

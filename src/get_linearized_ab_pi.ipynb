{
 "cells": [
  {
   "cell_type": "code",
   "execution_count": 1,
   "metadata": {},
   "outputs": [],
   "source": [
    "import sympy as sp\n",
    "\n",
    "# Define parameters as symbols\n",
    "m_p, l_p, I_a, I_p, g = sp.symbols('m_p l_p I_a I_p g', real=True, positive=True)\n",
    "alpha, dalpha, theta, dtheta, u = sp.symbols('alpha dalpha theta dtheta u', real=True)\n"
   ]
  },
  {
   "cell_type": "code",
   "execution_count": 2,
   "metadata": {},
   "outputs": [],
   "source": [
    "# Intermediate terms\n",
    "denom_alpha = I_a + m_p*l_p**2*sp.sin(theta)**2\n",
    "ddalpha = (u - m_p*l_p**2*sp.sin(theta)*sp.cos(theta)*dtheta**2 - m_p*g*l_p*sp.sin(theta)*sp.cos(theta))/denom_alpha\n",
    "\n",
    "denom_theta = (I_p + m_p*l_p**2)\n",
    "ddtheta = (m_p*g*l_p*sp.sin(theta) - m_p*l_p**2*sp.sin(theta)*sp.cos(theta)*ddalpha)/denom_theta\n"
   ]
  },
  {
   "cell_type": "code",
   "execution_count": 3,
   "metadata": {},
   "outputs": [],
   "source": [
    "f1 = dalpha\n",
    "f2 = ddalpha\n",
    "f3 = dtheta\n",
    "f4 = ddtheta"
   ]
  },
  {
   "cell_type": "code",
   "execution_count": 4,
   "metadata": {},
   "outputs": [],
   "source": [
    "# State vector and input\n",
    "X = sp.Matrix([alpha, dalpha, theta, dtheta])\n",
    "U = sp.Matrix([u])\n",
    "\n",
    "F = sp.Matrix([f1, f2, f3, f4])\n",
    "\n",
    "# Compute Jacobians\n",
    "A = F.jacobian(X)\n",
    "B = F.jacobian(U)\n",
    "\n",
    "# Evaluate at equilibrium\n",
    "A_lin = A.subs({alpha:0, dalpha:0, theta:sp.pi, dtheta:0, u:0})\n",
    "B_lin = B.subs({alpha:0, dalpha:0, theta:sp.pi, dtheta:0, u:0})\n"
   ]
  },
  {
   "cell_type": "code",
   "execution_count": 5,
   "metadata": {},
   "outputs": [],
   "source": [
    "A_lin_simpl = sp.simplify(A_lin)\n",
    "B_lin_simpl = sp.simplify(B_lin)"
   ]
  },
  {
   "cell_type": "code",
   "execution_count": 6,
   "metadata": {},
   "outputs": [
    {
     "data": {
      "text/latex": [
       "$\\displaystyle \\left[\\begin{matrix}0 & 1 & 0 & 0\\\\0 & 0 & - \\frac{g l_{p} m_{p}}{I_{a}} & 0\\\\0 & 0 & 0 & 1\\\\0 & 0 & - \\frac{g l_{p} m_{p}}{I_{p} + l_{p}^{2} m_{p}} & 0\\end{matrix}\\right]$"
      ],
      "text/plain": [
       "Matrix([\n",
       "[0, 1,                             0, 0],\n",
       "[0, 0,                -g*l_p*m_p/I_a, 0],\n",
       "[0, 0,                             0, 1],\n",
       "[0, 0, -g*l_p*m_p/(I_p + l_p**2*m_p), 0]])"
      ]
     },
     "execution_count": 6,
     "metadata": {},
     "output_type": "execute_result"
    }
   ],
   "source": [
    "A_lin_simpl"
   ]
  },
  {
   "cell_type": "code",
   "execution_count": 7,
   "metadata": {},
   "outputs": [
    {
     "data": {
      "text/latex": [
       "$\\displaystyle \\left[\\begin{matrix}0\\\\\\frac{1}{I_{a}}\\\\0\\\\0\\end{matrix}\\right]$"
      ],
      "text/plain": [
       "Matrix([\n",
       "[    0],\n",
       "[1/I_a],\n",
       "[    0],\n",
       "[    0]])"
      ]
     },
     "execution_count": 7,
     "metadata": {},
     "output_type": "execute_result"
    }
   ],
   "source": [
    "B_lin_simpl"
   ]
  },
  {
   "cell_type": "code",
   "execution_count": 8,
   "metadata": {},
   "outputs": [
    {
     "name": "stdout",
     "output_type": "stream",
     "text": [
      "Matrix([[0, 1, 0, 0], [0, 0, -g*l_p*m_p/I_a, 0], [0, 0, 0, 1], [0, 0, -g*l_p*m_p/(I_p + l_p**2*m_p), 0]])\n",
      "Matrix([[0], [1/I_a], [0], [0]])\n"
     ]
    }
   ],
   "source": [
    "print(A_lin_simpl)\n",
    "print(B_lin_simpl)"
   ]
  },
  {
   "cell_type": "code",
   "execution_count": 9,
   "metadata": {},
   "outputs": [
    {
     "name": "stdout",
     "output_type": "stream",
     "text": [
      "A matrix linearized about theta=pi:\n",
      "Matrix([[0, 1, 0, 0], [0, 0, -g*l_p*m_p/I_a, 0], [0, 0, 0, 1], [0, 0, -g*l_p*m_p/(I_p + l_p**2*m_p), 0]])\n",
      "\n",
      "B matrix linearized about theta=pi:\n",
      "Matrix([[0], [1/I_a], [0], [0]])\n"
     ]
    }
   ],
   "source": [
    "import sympy as sp\n",
    "\n",
    "# Define symbolic parameters\n",
    "m_p, l_p, I_a, I_p, g = sp.symbols('m_p l_p I_a I_p g', real=True, positive=True)\n",
    "\n",
    "# Define states and input:\n",
    "# alpha: rotation of the arm\n",
    "# dalpha: angular velocity of the arm\n",
    "# theta: pendulum angle, measured from downward position\n",
    "# dtheta: angular velocity of the pendulum\n",
    "# u: input torque\n",
    "alpha, dalpha, theta, dtheta, u = sp.symbols('alpha dalpha theta dtheta u', real=True)\n",
    "\n",
    "# Nonlinear equations of motion for the Furuta pendulum\n",
    "# (I_a + m_p l_p^2 sin^2(theta)) ddalpha \n",
    "#     + m_p l_p^2 sin(theta) cos(theta) dtheta^2 \n",
    "#     + m_p g l_p sin(theta) cos(theta) = u\n",
    "#\n",
    "# (I_p + m_p l_p^2) ddtheta \n",
    "#     + m_p l_p^2 sin(theta) cos(theta) ddalpha \n",
    "#     - m_p g l_p sin(theta) = 0\n",
    "\n",
    "denom_alpha = I_a + m_p * l_p**2 * sp.sin(theta)**2\n",
    "ddalpha = (u - m_p*l_p**2 * sp.sin(theta)*sp.cos(theta)*dtheta**2 \n",
    "           - m_p*g*l_p*sp.sin(theta)*sp.cos(theta)) / denom_alpha\n",
    "\n",
    "denom_theta = I_p + m_p*l_p**2\n",
    "ddtheta = (m_p*g*l_p*sp.sin(theta) \n",
    "           - m_p*l_p**2 * sp.sin(theta)*sp.cos(theta)*ddalpha) / denom_theta\n",
    "\n",
    "# State vector: x = [alpha, dalpha, theta, dtheta]\n",
    "# x_dot = [dalpha, ddalpha, dtheta, ddtheta]\n",
    "f1 = dalpha\n",
    "f2 = ddalpha\n",
    "f3 = dtheta\n",
    "f4 = ddtheta\n",
    "\n",
    "X = sp.Matrix([alpha, dalpha, theta, dtheta])\n",
    "U = sp.Matrix([u])\n",
    "F = sp.Matrix([f1, f2, f3, f4])\n",
    "\n",
    "# Equilibrium point: alpha=0, dalpha=0, theta=pi, dtheta=0, u=0\n",
    "equilibrium = {alpha: 0, dalpha: 0, theta: sp.pi, dtheta: 0, u: 0}\n",
    "\n",
    "# Compute Jacobians\n",
    "A = F.jacobian(X)\n",
    "B = F.jacobian(U)\n",
    "\n",
    "# Substitute equilibrium values into A and B\n",
    "A_lin = A.subs(equilibrium)\n",
    "B_lin = B.subs(equilibrium)\n",
    "\n",
    "# (Optional) simplify the matrices\n",
    "A_lin_simpl = sp.simplify(A_lin)\n",
    "B_lin_simpl = sp.simplify(B_lin)\n",
    "\n",
    "print(\"A matrix linearized about theta=pi:\")\n",
    "print(A_lin_simpl)\n",
    "print(\"\\nB matrix linearized about theta=pi:\")\n",
    "print(B_lin_simpl)\n"
   ]
  }
 ],
 "metadata": {
  "kernelspec": {
   "display_name": "usr",
   "language": "python",
   "name": "python3"
  },
  "language_info": {
   "codemirror_mode": {
    "name": "ipython",
    "version": 3
   },
   "file_extension": ".py",
   "mimetype": "text/x-python",
   "name": "python",
   "nbconvert_exporter": "python",
   "pygments_lexer": "ipython3",
   "version": "3.10.12"
  }
 },
 "nbformat": 4,
 "nbformat_minor": 2
}

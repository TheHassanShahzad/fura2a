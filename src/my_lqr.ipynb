{
 "cells": [
  {
   "cell_type": "code",
   "execution_count": 9,
   "metadata": {},
   "outputs": [],
   "source": [
    "g = 9.80665\n",
    "\n",
    "m1 = 1.786614971490255\n",
    "m2 = 0.08939794594871456\n",
    "\n",
    "l1 = 0.007967562168493848\n",
    "l2 = 0.06\n",
    "\n",
    "L1 = 0.075\n",
    "L2 = 0.12\n",
    "\n",
    "# J1 = pendulum_params[\"J1\"]\n",
    "# J2 = pendulum_params[\"J2\"]\n",
    "\n",
    "b1 = 0.0\n",
    "b2 = 0.0\n",
    "\n",
    "# J2_hat = J2 + m2 * l2 * l2\n",
    "# J0_hat = J1 + m1 * l1 * l1 + m2 * L1 * L1\n",
    "\n",
    "J0_hat = 0.00283041\n",
    "J2_hat = 0.000322832"
   ]
  },
  {
   "cell_type": "code",
   "execution_count": 10,
   "metadata": {},
   "outputs": [
    {
     "name": "stdout",
     "output_type": "stream",
     "text": [
      "[[  0.           0.           1.           0.        ]\n",
      " [  0.           0.           0.           1.        ]\n",
      " [  0.          28.14324672  -0.          -0.        ]\n",
      " [  0.         198.00834495  -0.          -0.        ]] [[  0.        ]\n",
      " [  0.        ]\n",
      " [429.34978933]\n",
      " [535.02580806]]\n"
     ]
    }
   ],
   "source": [
    "import numpy as np\n",
    "\n",
    "# Linearized furuta pendulum from\n",
    "# https://www.hindawi.com/journals/jcse/2011/528341/\n",
    "\n",
    "denominator = J0_hat * J2_hat - (m2**2.0) * (L1**2.0) * (l2**2.0)\n",
    "\n",
    "A32 = (g * (m2**2.0) * (l2**2.0) * L1) / denominator\n",
    "A33 = (-b1 * J2_hat) / denominator\n",
    "A34 = (-b2 * m2 * l2 * L1) / denominator\n",
    "\n",
    "A42 = (g * m2 * l2 * J0_hat) / denominator\n",
    "A43 = (-b1 * m2 * l2 * L1) / denominator\n",
    "A44 = (-b2 * J0_hat) / denominator\n",
    "\n",
    "B31 = (J2_hat) / denominator\n",
    "B41 = (m2 * L1 * l2) / denominator\n",
    "B32 = (m2 * L1 * l2) / denominator\n",
    "B42 = (J0_hat) / denominator\n",
    "\n",
    "A = np.array([[0.0, 0.0, 1.0, 0.0], [0.0, 0.0, 0.0, 1.0], [0.0, A32, A33, A34], [0.0, A42, A43, A44]])\n",
    "B = np.array([[0.0], [0.0], [B31], [B41]])\n",
    "# B32 and B42 not used, as I assumed no disturbance (tau2 = 0)\n",
    "\n",
    "print(A, B)"
   ]
  },
  {
   "cell_type": "code",
   "execution_count": 11,
   "metadata": {},
   "outputs": [],
   "source": [
    "theta1_weight = 0.0\n",
    "theta2_weight = 10.0\n",
    "dtheta1_weight = 1.0\n",
    "dtheta2_weight = 1.0\n",
    "u_weight = 1.0\n",
    "\n",
    "Q = np.array(\n",
    "    [\n",
    "        [theta1_weight, 0.0, 0.0, 0.0],\n",
    "        [0.0, theta2_weight, 0.0, 0.0],\n",
    "        [0.0, 0.0, dtheta1_weight, 0.0],\n",
    "        [0.0, 0.0, 0.0, dtheta2_weight],\n",
    "    ]\n",
    ")\n",
    "R = np.array([u_weight])"
   ]
  },
  {
   "cell_type": "code",
   "execution_count": 12,
   "metadata": {},
   "outputs": [
    {
     "name": "stdout",
     "output_type": "stream",
     "text": [
      "-4.1801204715813414e-14, 24.126627150719628, -0.9999999999999858, 2.1193630064897135\n",
      "0.0, 0.3700797393830494, 0.0, -1.5222021172687217e-15\n",
      "[-6.86189589e+02+0.j          1.75881174e-14+0.j\n",
      " -9.18726355e+00+4.18865651j -9.18726355e+00-4.18865651j]\n"
     ]
    }
   ],
   "source": [
    "from control import lqr, dlqr, ss\n",
    "\n",
    "# K, S, E = lqr(A, B, Q, R)\n",
    "C = np.identity(4)\n",
    "# D = np.zeros(4).transpose()\n",
    "D = np.array([[0.0], [0.0], [0.0], [0.0]])\n",
    "\n",
    "# dt = 0.006666667\n",
    "dt = 1/330\n",
    "dsys = ss(A, B, C, D, dt)\n",
    "K, S, E = dlqr(dsys, Q, R)\n",
    "\n",
    "sys = ss(A, B, C, D)\n",
    "Kc, S, E = lqr(sys, Q, R)\n",
    "\n",
    "print(f\"{Kc[0,0]}, {Kc[0,1]}, {Kc[0,2]}, {Kc[0,3]}\")\n",
    "print(f\"{K[0,0]}, {K[0,1]}, {K[0,2]}, {K[0,3]}\")\n",
    "\n",
    "print(E)"
   ]
  },
  {
   "cell_type": "code",
   "execution_count": 13,
   "metadata": {},
   "outputs": [
    {
     "name": "stdout",
     "output_type": "stream",
     "text": [
      "Rank: 4, Number of States: 4\n"
     ]
    }
   ],
   "source": [
    "from numpy.linalg import matrix_rank\n",
    "\n",
    "n = A.shape[0]\n",
    "controllability_matrix = np.hstack([np.linalg.matrix_power(A, i) @ B for i in range(n)])\n",
    "rank = matrix_rank(controllability_matrix)\n",
    "print(f\"Rank: {rank}, Number of States: {n}\")"
   ]
  }
 ],
 "metadata": {
  "kernelspec": {
   "display_name": "usr",
   "language": "python",
   "name": "python3"
  },
  "language_info": {
   "codemirror_mode": {
    "name": "ipython",
    "version": 3
   },
   "file_extension": ".py",
   "mimetype": "text/x-python",
   "name": "python",
   "nbconvert_exporter": "python",
   "pygments_lexer": "ipython3",
   "version": "3.10.12"
  }
 },
 "nbformat": 4,
 "nbformat_minor": 2
}

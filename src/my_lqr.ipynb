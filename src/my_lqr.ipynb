{
 "cells": [
  {
   "cell_type": "code",
   "execution_count": 2,
   "metadata": {},
   "outputs": [],
   "source": [
    "g = 9.80665\n",
    "\n",
    "m1 = 1.786614971490255\n",
    "m2 = 0.08939794594871456\n",
    "\n",
    "l1 = 0.007967562168493848\n",
    "l2 = 0.06\n",
    "\n",
    "L1 = 0.075\n",
    "L2 = 0.12\n",
    "\n",
    "# J1 = pendulum_params[\"J1\"]\n",
    "# J2 = pendulum_params[\"J2\"]\n",
    "\n",
    "b1 = 0.1\n",
    "b2 = 0.1\n",
    "\n",
    "# J2_hat = J2 + m2 * l2 * l2\n",
    "# J0_hat = J1 + m1 * l1 * l1 + m2 * L1 * L1\n",
    "\n",
    "J0_hat = 0.00283041\n",
    "J2_hat = 0.000322832"
   ]
  },
  {
   "cell_type": "code",
   "execution_count": 3,
   "metadata": {},
   "outputs": [
    {
     "name": "stdout",
     "output_type": "stream",
     "text": [
      "[[   0.            0.            1.            0.        ]\n",
      " [   0.            0.            0.            1.        ]\n",
      " [   0.           28.14324672  -42.93497893  -53.50258081]\n",
      " [   0.          198.00834495  -53.50258081 -376.42982642]] [[  0.        ]\n",
      " [  0.        ]\n",
      " [429.34978933]\n",
      " [535.02580806]]\n"
     ]
    }
   ],
   "source": [
    "import numpy as np\n",
    "\n",
    "# Linearized furuta pendulum from\n",
    "# https://www.hindawi.com/journals/jcse/2011/528341/\n",
    "\n",
    "denominator = J0_hat * J2_hat - (m2**2.0) * (L1**2.0) * (l2**2.0)\n",
    "\n",
    "A32 = (g * (m2**2.0) * (l2**2.0) * L1) / denominator\n",
    "A33 = (-b1 * J2_hat) / denominator\n",
    "A34 = (-b2 * m2 * l2 * L1) / denominator\n",
    "\n",
    "A42 = (g * m2 * l2 * J0_hat) / denominator\n",
    "A43 = (-b1 * m2 * l2 * L1) / denominator\n",
    "A44 = (-b2 * J0_hat) / denominator\n",
    "\n",
    "B31 = (J2_hat) / denominator\n",
    "B41 = (m2 * L1 * l2) / denominator\n",
    "B32 = (m2 * L1 * l2) / denominator\n",
    "B42 = (J0_hat) / denominator\n",
    "\n",
    "A = np.array([[0.0, 0.0, 1.0, 0.0], [0.0, 0.0, 0.0, 1.0], [0.0, A32, A33, A34], [0.0, A42, A43, A44]])\n",
    "B = np.array([[0.0], [0.0], [B31], [B41]])\n",
    "# B32 and B42 not used, as I assumed no disturbance (tau2 = 0)\n",
    "\n",
    "print(A, B)"
   ]
  },
  {
   "cell_type": "code",
   "execution_count": 4,
   "metadata": {},
   "outputs": [],
   "source": [
    "theta1_weight = 0.0\n",
    "theta2_weight = 10.0\n",
    "dtheta1_weight = 1.0\n",
    "dtheta2_weight = 1.0\n",
    "u_weight = 1.0\n",
    "\n",
    "Q = np.array(\n",
    "    [\n",
    "        [theta1_weight, 0.0, 0.0, 0.0],\n",
    "        [0.0, theta2_weight, 0.0, 0.0],\n",
    "        [0.0, 0.0, dtheta1_weight, 0.0],\n",
    "        [0.0, 0.0, 0.0, dtheta2_weight],\n",
    "    ]\n",
    ")\n",
    "R = np.array([u_weight])"
   ]
  },
  {
   "cell_type": "code",
   "execution_count": null,
   "metadata": {},
   "outputs": [
    {
     "name": "stdout",
     "output_type": "stream",
     "text": [
      "-1.7967503629235828e-14, 501.3703119401471, -1.1049875621085903, 1.8652357700054836\n",
      "0.0, 0.37008776566345214, -0.09999999999442263, -0.7045479262875615\n"
     ]
    }
   ],
   "source": [
    "from control import lqr, dlqr, ss\n",
    "\n",
    "# K, S, E = lqr(A, B, Q, R)\n",
    "C = np.identity(4)\n",
    "# D = np.zeros(4).transpose()\n",
    "D = np.array([[0.0], [0.0], [0.0], [0.0]])\n",
    "\n",
    "# dt = 0.006666667\n",
    "dt = 1/330\n",
    "dsys = ss(A, B, C, D, dt)\n",
    "K, S, E = dlqr(dsys, Q, R)\n",
    "\n",
    "sys = ss(A, B, C, D)\n",
    "Kc, S, E = lqr(sys, Q, R)\n",
    "\n",
    "print(f\"{Kc[0,0]}, {Kc[0,1]}, {Kc[0,2]}, {Kc[0,3]}\")\n",
    "print(f\"{K[0,0]}, {K[0,1]}, {K[0,2]}, {K[0,3]}\")\n",
    "\n",
    "print(E)"
   ]
  },
  {
   "cell_type": "code",
   "execution_count": null,
   "metadata": {},
   "outputs": [],
   "source": []
  }
 ],
 "metadata": {
  "kernelspec": {
   "display_name": "usr",
   "language": "python",
   "name": "python3"
  },
  "language_info": {
   "codemirror_mode": {
    "name": "ipython",
    "version": 3
   },
   "file_extension": ".py",
   "mimetype": "text/x-python",
   "name": "python",
   "nbconvert_exporter": "python",
   "pygments_lexer": "ipython3",
   "version": "3.10.12"
  }
 },
 "nbformat": 4,
 "nbformat_minor": 2
}
